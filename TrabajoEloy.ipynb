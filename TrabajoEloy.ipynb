{
  "nbformat": 4,
  "nbformat_minor": 0,
  "metadata": {
    "colab": {
      "provenance": [],
      "gpuType": "T4",
      "authorship_tag": "ABX9TyMivAfCaKwkxDBbULA1JAmp",
      "include_colab_link": true
    },
    "kernelspec": {
      "name": "python3",
      "display_name": "Python 3"
    },
    "language_info": {
      "name": "python"
    },
    "accelerator": "GPU"
  },
  "cells": [
    {
      "cell_type": "markdown",
      "metadata": {
        "id": "view-in-github",
        "colab_type": "text"
      },
      "source": [
        "<a href=\"https://colab.research.google.com/github/paascorb/MergeSortPython/blob/main/TrabajoEloy.ipynb\" target=\"_parent\"><img src=\"https://colab.research.google.com/assets/colab-badge.svg\" alt=\"Open In Colab\"/></a>"
      ]
    },
    {
      "cell_type": "markdown",
      "source": [
        "# Trabajo Mergesort Python"
      ],
      "metadata": {
        "id": "yV9xVN-aVXYA"
      }
    },
    {
      "cell_type": "markdown",
      "source": [
        "En este apartado vamos a realizar la parte obligatoria del trabajo, donde vamos a programar el método de ordenación Mergesort en Python dse manera secuencial, paralela y usando Numba."
      ],
      "metadata": {
        "id": "3AbfaPhjViwa"
      }
    },
    {
      "cell_type": "markdown",
      "source": [
        "## Utilidades"
      ],
      "metadata": {
        "id": "O4xy6MROeunV"
      }
    },
    {
      "cell_type": "markdown",
      "source": [
        "Primero, antes de ponernos a programar los algoritmos, necesitamos programar los métodos auxiliares."
      ],
      "metadata": {
        "id": "whvlK-lzewct"
      }
    },
    {
      "cell_type": "code",
      "source": [
        "from random import *\n",
        "\n",
        "def generar_datos(tamaño):\n",
        "  '''Genera 'tamaño' datos aleatorios dcon valores entre -1000 y 1000\n",
        "     Siempre genera la misma secuencia de valores'''\n",
        "\n",
        "  seed(22) # Fijamos la semilla\n",
        "  return [randint(-1000, 1000) for i in range(0, tamaño)]"
      ],
      "metadata": {
        "id": "865tNI0Xev66"
      },
      "execution_count": 1,
      "outputs": []
    },
    {
      "cell_type": "markdown",
      "source": [
        "Probamos la primera función."
      ],
      "metadata": {
        "id": "8nA8hfc8hHFt"
      }
    },
    {
      "cell_type": "code",
      "source": [
        "generar_datos(3)"
      ],
      "metadata": {
        "colab": {
          "base_uri": "https://localhost:8080/",
          "height": 0
        },
        "id": "znBS_0CDhFjt",
        "outputId": "3a2aafcd-585d-450f-a34e-3137392afe5e"
      },
      "execution_count": 2,
      "outputs": [
        {
          "output_type": "execute_result",
          "data": {
            "text/plain": [
              "[962, 858, -713]"
            ]
          },
          "metadata": {},
          "execution_count": 2
        }
      ]
    },
    {
      "cell_type": "markdown",
      "source": [
        "Seguimos con las siguientes."
      ],
      "metadata": {
        "id": "ct2tFpdRhkrG"
      }
    },
    {
      "cell_type": "code",
      "source": [
        "def esta_ordenado_array(vector, tamaño, ti, tf):\n",
        "  '''Comprueba si un array está ordenado\n",
        "     Devolverá la primera posición que no está ordenada y -1 si el vector está ordenado'''\n",
        "\n",
        "  aux = -1\n",
        "\n",
        "  for i in range(0, tamaño-1):\n",
        "    if(vector[i]>vector[i+1]):\n",
        "      aux = i\n",
        "      i = tamaño\n",
        "\n",
        "  if(aux == -1):\n",
        "\n",
        "    print(\"El array está ordenado\\n\\n\")\n",
        "    print(\"Tiempo invertido en ordenar: \"+str(tf-ti)+\" milisegundos \\n\\n\")\n",
        "\n",
        "  else:\n",
        "    print(\"\\nEl vector falla en ****  \"+ str(aux) +\"  ******\")\n",
        "\n",
        "  return aux"
      ],
      "metadata": {
        "id": "oO1_XrAahi7a"
      },
      "execution_count": 3,
      "outputs": []
    },
    {
      "cell_type": "code",
      "source": [
        "esta_ordenado_array([1,2,3,4], 4, 100, 102)"
      ],
      "metadata": {
        "colab": {
          "base_uri": "https://localhost:8080/",
          "height": 0
        },
        "id": "VWrWxzlpio05",
        "outputId": "693f713d-7241-4de3-e66d-9206bfd3b8b1"
      },
      "execution_count": 4,
      "outputs": [
        {
          "output_type": "stream",
          "name": "stdout",
          "text": [
            "El array está ordenado\n",
            "\n",
            "\n",
            "Tiempo invertido en ordenar: 2 milisegundos \n",
            "\n",
            "\n"
          ]
        },
        {
          "output_type": "execute_result",
          "data": {
            "text/plain": [
              "-1"
            ]
          },
          "metadata": {},
          "execution_count": 4
        }
      ]
    },
    {
      "cell_type": "code",
      "source": [
        "esta_ordenado_array([1,5,3,4], 4, 100, 102)"
      ],
      "metadata": {
        "colab": {
          "base_uri": "https://localhost:8080/",
          "height": 0
        },
        "id": "pgtpFgPDiyHb",
        "outputId": "169aef21-c6b8-401e-eacb-dc213e0db728"
      },
      "execution_count": 5,
      "outputs": [
        {
          "output_type": "stream",
          "name": "stdout",
          "text": [
            "\n",
            "El vector falla en ****  1  ******\n"
          ]
        },
        {
          "output_type": "execute_result",
          "data": {
            "text/plain": [
              "1"
            ]
          },
          "metadata": {},
          "execution_count": 5
        }
      ]
    },
    {
      "cell_type": "code",
      "source": [
        "def burbuja(v, izq, der):\n",
        "  '''Ordenación secuencial por el método de la burbuja\n",
        "     Se pasan los índices izq y ordena desde v[iz] hasta v[der-1]'''\n",
        "  aux = 0\n",
        "  for i in range(0, der-izq-1):\n",
        "    for j in range(izq, der-i-1):\n",
        "      if v[j] > v[j+1]:\n",
        "        aux = v[j]\n",
        "        v[j]=v[j+1]\n",
        "        v[j+1]=aux"
      ],
      "metadata": {
        "id": "VAtg2aAii1eJ"
      },
      "execution_count": 6,
      "outputs": []
    },
    {
      "cell_type": "code",
      "source": [
        "prueba = [3,2,1]\n",
        "burbuja(prueba,0,3)\n",
        "prueba"
      ],
      "metadata": {
        "colab": {
          "base_uri": "https://localhost:8080/",
          "height": 0
        },
        "id": "kfTJgIX_kDWN",
        "outputId": "3e91ac7b-533d-45f2-f2a7-9f49e4d27ae4"
      },
      "execution_count": 7,
      "outputs": [
        {
          "output_type": "execute_result",
          "data": {
            "text/plain": [
              "[1, 2, 3]"
            ]
          },
          "metadata": {},
          "execution_count": 7
        }
      ]
    },
    {
      "cell_type": "code",
      "source": [
        "import time\n",
        "\n",
        "def milisegundos():\n",
        "  # Devuelve el tiempo en milisengundos desde la época Unix (01/01/1970)\n",
        "\n",
        "\treturn round(time.time() * 1000)"
      ],
      "metadata": {
        "id": "fky_Dd6bkZpc"
      },
      "execution_count": 8,
      "outputs": []
    },
    {
      "cell_type": "code",
      "source": [
        "milisegundos()"
      ],
      "metadata": {
        "colab": {
          "base_uri": "https://localhost:8080/",
          "height": 0
        },
        "id": "4aOSJEVVk5GQ",
        "outputId": "e49d8879-f1dc-4bdb-bb31-0e469fa82635"
      },
      "execution_count": 9,
      "outputs": [
        {
          "output_type": "execute_result",
          "data": {
            "text/plain": [
              "1686694868624"
            ]
          },
          "metadata": {},
          "execution_count": 9
        }
      ]
    },
    {
      "cell_type": "code",
      "source": [
        "def mezclar(v , izq, med, der):\n",
        "  '''Mezcla ordenada de dos trozos de un vector desde sus índices izq hasta der\n",
        "     Primer trozo desde izq hasta med-1\n",
        "     Segundo trozo desde med hasta der-1\n",
        "     Cada trozo tiene que estar previamente ordenado'''\n",
        "\n",
        "  aux= [0] * (der-izq)\n",
        "  i=izq\n",
        "  j=med\n",
        "  k=0\n",
        "\n",
        "  while i<med and j<der:\n",
        "    if v[i] <= v[j]:\n",
        "      aux[k] = v[i]\n",
        "      i += 1\n",
        "    else:\n",
        "      aux[k] = v[j];\n",
        "      j += 1\n",
        "    k += 1\n",
        "\n",
        "  while i<med:\n",
        "    aux[k] = v[i]\n",
        "    k += 1\n",
        "    i += 1\n",
        "\n",
        "  while j<der:\n",
        "    aux[k] = v[j];\n",
        "    k += 1\n",
        "    j += 1\n",
        "\n",
        "  for i in range(0, der-izq):\n",
        "      v[i+izq] = aux[i]"
      ],
      "metadata": {
        "id": "OJ_eZUzuk6ts"
      },
      "execution_count": 10,
      "outputs": []
    },
    {
      "cell_type": "markdown",
      "source": [
        "## Python Secuencial"
      ],
      "metadata": {
        "id": "9Gd7KekTVuo6"
      }
    },
    {
      "cell_type": "markdown",
      "source": [
        "En esta sección vamos a programar el algoritmo Mergesort secuencialmente."
      ],
      "metadata": {
        "id": "lNSPbFNHekZE"
      }
    },
    {
      "cell_type": "code",
      "source": [
        "def mergesort_secuencial(v, n, num_trozos):\n",
        "\n",
        "  tam_trozo = int(n / num_trozos)\n",
        "  for i in range(0, num_trozos):\n",
        "    izq = i*tam_trozo\n",
        "    der = (i+1) * tam_trozo\n",
        "    if i == num_trozos-1: der = n\n",
        "    burbuja(v, izq, der)\n",
        "\n",
        "\t# Mezclar todos los trozos ordenados\n",
        "  for i in range(num_trozos-2, -1, -1):\n",
        "    izq=i*tam_trozo\n",
        "    med=izq+tam_trozo\n",
        "    mezclar(v,izq,med,n)"
      ],
      "metadata": {
        "id": "-wNyBJ86Vwq4"
      },
      "execution_count": 59,
      "outputs": []
    },
    {
      "cell_type": "markdown",
      "source": [
        "Probamos el algoritmo y medimos tiempos."
      ],
      "metadata": {
        "id": "vpX_NMCdnZbj"
      }
    },
    {
      "cell_type": "code",
      "source": [
        "def ejercicio1(n=None, num_trozos=None):\n",
        "  print(\"ORDENACIÓN MERGESORT SECUENCIAL\\n\")\n",
        "\n",
        "  if not n or not num_trozos:\n",
        "    n = int(input(\"Escriba el tamaño del vector: \")) # Número de datos que se quieren ordenar\n",
        "    num_trozos = int(input(\"Escriba cúantos trozos quiere usar: \")) # Número de trozos que se quieren usar\n",
        "\n",
        "  # Generación aleatoria de n datos\n",
        "  datos = generar_datos(n)\n",
        "  # Ordenar\n",
        "  print(\"Ordenando...\")\n",
        "  ti=milisegundos() # tiempo inicial\n",
        "  mergesort_secuencial(datos,n,num_trozos)\n",
        "  tf=milisegundos() # tiempo final\n",
        "\n",
        "  # Comprobar que está correcto\n",
        "  res = esta_ordenado_array(datos, n, ti, tf)\n",
        "  if res == -1:\n",
        "    return tf-ti"
      ],
      "metadata": {
        "id": "2PxPBOdonbVy"
      },
      "execution_count": 74,
      "outputs": []
    },
    {
      "cell_type": "code",
      "source": [
        "ejercicio1()"
      ],
      "metadata": {
        "colab": {
          "base_uri": "https://localhost:8080/",
          "height": 0
        },
        "id": "Fcv0-EzKpwT8",
        "outputId": "66a702e5-7d9f-491d-95f0-2d2f4bf6f31b"
      },
      "execution_count": 67,
      "outputs": [
        {
          "output_type": "stream",
          "name": "stdout",
          "text": [
            "ORDENACIÓN MERGESORT SECUENCIAL\n",
            "\n",
            "Escriba el tamaño del vector: 10\n",
            "Escriba cúantos trozos quiere usar: 2\n",
            "Ordenando...\n",
            "El array está ordenado\n",
            "\n",
            "\n",
            "Tiempo invertido en ordenar: 0 milisegundos \n",
            "\n",
            "\n"
          ]
        },
        {
          "output_type": "execute_result",
          "data": {
            "text/plain": [
              "0"
            ]
          },
          "metadata": {},
          "execution_count": 67
        }
      ]
    },
    {
      "cell_type": "markdown",
      "source": [
        "Teniendo esto ya, lo mejor es que calculemos los tiempos con los mismos datos que utilizábamos en la primera parte del trabajo. Recordemos que lo haciamos para tamaños de vectores 10, 1000, 10 000 y 1 000 000; y para trozos de tamaño 10, 100, 500 y 1000."
      ],
      "metadata": {
        "id": "Xx_trrWrsEpU"
      }
    },
    {
      "cell_type": "code",
      "source": [
        "n_tro = [10, 100, 500, 1000]\n",
        "tam = [10, 100, 10000, 1000000]\n",
        "\n",
        "resultado = []\n",
        "for n in tam:\n",
        "  fila = []\n",
        "  for t in n_tro:\n",
        "    if n == 1000000 and t in [10, 100, 500]:\n",
        "      fila.append(\">100 000\")\n",
        "    else:\n",
        "      fila.append(ejercicio1(n, t))\n",
        "\n",
        "  resultado.append(fila)"
      ],
      "metadata": {
        "id": "NTt0toUEsvhu"
      },
      "execution_count": null,
      "outputs": []
    },
    {
      "cell_type": "code",
      "source": [
        "resultado = [ [abs(i) for i in j if isinstance(i, int)] for j in resultado]"
      ],
      "metadata": {
        "id": "PFAxzoxtsAKZ"
      },
      "execution_count": 83,
      "outputs": []
    },
    {
      "cell_type": "code",
      "source": [
        "resultado"
      ],
      "metadata": {
        "colab": {
          "base_uri": "https://localhost:8080/",
          "height": 0
        },
        "id": "0o9pSulKtljA",
        "outputId": "afd59787-df54-431b-a362-f58deeb88e10"
      },
      "execution_count": 84,
      "outputs": [
        {
          "output_type": "execute_result",
          "data": {
            "text/plain": [
              "[[0, 0, 2, 3], [0, 1, 12, 19], [894, 218, 724, 1354], [387758]]"
            ]
          },
          "metadata": {},
          "execution_count": 84
        }
      ]
    },
    {
      "cell_type": "markdown",
      "source": [
        "Los resultado de un millón no aparecen porque los he saltado, ya que sobrepasaban demasiado el tiempo de cálculo. Pero tenemos la tabla."
      ],
      "metadata": {
        "id": "H8R0oCY51Ai1"
      }
    },
    {
      "cell_type": "markdown",
      "source": [
        "Tabla | 10 | 100 | 500 | 1000\n",
        "--- | --- | --- | --- | ---\n",
        "10| 0 | 0 | 2 | 3\n",
        "1000 | 0 | 1 | 12 | 19\n",
        "10 000 | 894 | 218 | 724 | 1354\n",
        "1 000 000 | >100 000 | >100 000 | >100 000 | 358 758"
      ],
      "metadata": {
        "id": "CZHYRPTn1G9o"
      }
    },
    {
      "cell_type": "markdown",
      "source": [
        "## Python paralelo"
      ],
      "metadata": {
        "id": "0iPOr0XH15R_"
      }
    },
    {
      "cell_type": "markdown",
      "source": [
        "Para ello, vamos a utilizar la libreria multiprocessing y la clase pool()."
      ],
      "metadata": {
        "id": "Dex85zcL4xSJ"
      }
    },
    {
      "cell_type": "code",
      "source": [
        "def funcion_par(i, tam_trozo, num_trozos, n):\n",
        "  izq = i*tam_trozo\n",
        "  der = (i+1) * tam_trozo\n",
        "  # Obtenemos el vector compartido para su consumición\n",
        "  existing_shm = shared_memory.SharedMemory(name='mem_comp')\n",
        "  v = np.ndarray((n,), dtype=np.int64, buffer=existing_shm.buf)\n",
        "  if i == num_trozos-1: der = n\n",
        "  burbuja(v, izq, der)"
      ],
      "metadata": {
        "id": "Wwkup9gl6RAb"
      },
      "execution_count": 11,
      "outputs": []
    },
    {
      "cell_type": "code",
      "source": [
        "def mergesort_paralelo(v, n, num_trozos):\n",
        "\n",
        "  pool = mp.Pool(mp.cpu_count())\n",
        "\n",
        "  tam_trozo = int(n / num_trozos)\n",
        "  [pool.apply(funcion_par, args=(i, tam_trozo, num_trozos, n)) for i in range(0, num_trozos)]\n",
        "\n",
        "  pool.close()\n",
        "\n",
        "\t# Mezclar todos los trozos ordenados\n",
        "  existing_shm = shared_memory.SharedMemory(name='mem_comp')\n",
        "  aux = np.ndarray((n,), dtype=np.int64, buffer=existing_shm.buf)\n",
        "  v[:] = aux[:]\n",
        "  for i in range(num_trozos-2, -1, -1):\n",
        "    izq=i*tam_trozo\n",
        "    med=izq+tam_trozo\n",
        "    mezclar(v,izq,med,n)"
      ],
      "metadata": {
        "id": "PVeK4XNf5ff4"
      },
      "execution_count": 12,
      "outputs": []
    },
    {
      "cell_type": "code",
      "source": [
        "import multiprocessing as mp\n",
        "from multiprocessing import shared_memory\n",
        "import numpy as np\n",
        "\n",
        "def ejercicio2(n=None, num_trozos=None):\n",
        "\n",
        "  print(\"ORDENACIÓN MERGESORT PARALELO\\n\")\n",
        "\n",
        "  if not n or not num_trozos:\n",
        "    n = int(input(\"Escriba el tamaño del vector: \")) # Número de datos que se quieren ordenar\n",
        "    num_trozos = int(input(\"Escriba cúantos trozos quiere usar: \")) # Número de trozos que se quieren usar\n",
        "\n",
        "  # Generación aleatoria de n datos\n",
        "  datos = generar_datos(n)\n",
        "  # Compartimos el vector para que los procesos lo puedan consumir\n",
        "  datos = np.array(datos)\n",
        "  shm = shared_memory.SharedMemory(create=True, size=datos.nbytes, name=\"mem_comp\")\n",
        "  aux = np.ndarray(datos.shape, dtype=datos.dtype, buffer=shm.buf)\n",
        "  aux[:] = datos[:]\n",
        "  # Ordenar\n",
        "  print(\"Ordenando...\")\n",
        "  ti=milisegundos() # tiempo inicial\n",
        "  mergesort_paralelo(datos,n,num_trozos)\n",
        "  tf=milisegundos() # tiempo final\n",
        "\n",
        "  # Eliminamos la memoria compartida\n",
        "  shm.close()\n",
        "  shm.unlink()\n",
        "\n",
        "  # Comprobar que está correcto\n",
        "  res = esta_ordenado_array(datos, n, ti, tf)\n",
        "  if res == -1:\n",
        "    return tf-ti"
      ],
      "metadata": {
        "id": "v_RACnU347G1"
      },
      "execution_count": 13,
      "outputs": []
    },
    {
      "cell_type": "code",
      "source": [
        "ejercicio2()"
      ],
      "metadata": {
        "colab": {
          "base_uri": "https://localhost:8080/",
          "height": 0
        },
        "id": "TyKnPuzd1GUO",
        "outputId": "b20ab1af-ffe7-4692-f20c-fa869889e04d"
      },
      "execution_count": 168,
      "outputs": [
        {
          "output_type": "stream",
          "name": "stdout",
          "text": [
            "ORDENACIÓN MERGESORT PARALELO\n",
            "\n",
            "Escriba el tamaño del vector: 10\n",
            "Escriba cúantos trozos quiere usar: 2\n",
            "Ordenando...\n",
            "El array está ordenado\n",
            "\n",
            "\n",
            "Tiempo invertido en ordenar: 1215 milisegundos \n",
            "\n",
            "\n"
          ]
        },
        {
          "output_type": "execute_result",
          "data": {
            "text/plain": [
              "1215"
            ]
          },
          "metadata": {},
          "execution_count": 168
        }
      ]
    },
    {
      "cell_type": "markdown",
      "source": [
        "Vemos que tarda bastante porque necesita compartir la memoria y generar los procesos."
      ],
      "metadata": {
        "id": "nR4o06bqCdhp"
      }
    },
    {
      "cell_type": "code",
      "source": [
        "n_tro = [10, 100, 500, 1000]\n",
        "tam = [10, 100, 10000, 1000000]\n",
        "\n",
        "resultado2 = []\n",
        "for n in tam:\n",
        "  fila = []\n",
        "  for t in n_tro:\n",
        "    if n == 1000000 and t in [10, 100, 500]:\n",
        "      fila.append(\">100 000\")\n",
        "    else:\n",
        "      fila.append(ejercicio2(n, t))\n",
        "\n",
        "  resultado2.append(fila)"
      ],
      "metadata": {
        "colab": {
          "base_uri": "https://localhost:8080/",
          "height": 0
        },
        "id": "ixaA3iwsChyE",
        "outputId": "d751225f-07ee-4ffd-ced1-168b208fb69a"
      },
      "execution_count": 14,
      "outputs": [
        {
          "output_type": "stream",
          "name": "stdout",
          "text": [
            "ORDENACIÓN MERGESORT PARALELO\n",
            "\n",
            "Ordenando...\n",
            "El array está ordenado\n",
            "\n",
            "\n",
            "Tiempo invertido en ordenar: 67 milisegundos \n",
            "\n",
            "\n",
            "ORDENACIÓN MERGESORT PARALELO\n",
            "\n",
            "Ordenando...\n",
            "El array está ordenado\n",
            "\n",
            "\n",
            "Tiempo invertido en ordenar: 78 milisegundos \n",
            "\n",
            "\n",
            "ORDENACIÓN MERGESORT PARALELO\n",
            "\n",
            "Ordenando...\n",
            "El array está ordenado\n",
            "\n",
            "\n",
            "Tiempo invertido en ordenar: 279 milisegundos \n",
            "\n",
            "\n",
            "ORDENACIÓN MERGESORT PARALELO\n",
            "\n",
            "Ordenando...\n",
            "El array está ordenado\n",
            "\n",
            "\n",
            "Tiempo invertido en ordenar: 519 milisegundos \n",
            "\n",
            "\n",
            "ORDENACIÓN MERGESORT PARALELO\n",
            "\n",
            "Ordenando...\n",
            "El array está ordenado\n",
            "\n",
            "\n",
            "Tiempo invertido en ordenar: 54 milisegundos \n",
            "\n",
            "\n",
            "ORDENACIÓN MERGESORT PARALELO\n",
            "\n",
            "Ordenando...\n",
            "El array está ordenado\n",
            "\n",
            "\n",
            "Tiempo invertido en ordenar: 98 milisegundos \n",
            "\n",
            "\n",
            "ORDENACIÓN MERGESORT PARALELO\n",
            "\n",
            "Ordenando...\n",
            "El array está ordenado\n",
            "\n",
            "\n",
            "Tiempo invertido en ordenar: 327 milisegundos \n",
            "\n",
            "\n",
            "ORDENACIÓN MERGESORT PARALELO\n",
            "\n",
            "Ordenando...\n",
            "El array está ordenado\n",
            "\n",
            "\n",
            "Tiempo invertido en ordenar: 595 milisegundos \n",
            "\n",
            "\n",
            "ORDENACIÓN MERGESORT PARALELO\n",
            "\n",
            "Ordenando...\n",
            "El array está ordenado\n",
            "\n",
            "\n",
            "Tiempo invertido en ordenar: 5833 milisegundos \n",
            "\n",
            "\n",
            "ORDENACIÓN MERGESORT PARALELO\n",
            "\n",
            "Ordenando...\n",
            "El array está ordenado\n",
            "\n",
            "\n",
            "Tiempo invertido en ordenar: 645 milisegundos \n",
            "\n",
            "\n",
            "ORDENACIÓN MERGESORT PARALELO\n",
            "\n",
            "Ordenando...\n",
            "El array está ordenado\n",
            "\n",
            "\n",
            "Tiempo invertido en ordenar: 1928 milisegundos \n",
            "\n",
            "\n",
            "ORDENACIÓN MERGESORT PARALELO\n",
            "\n",
            "Ordenando...\n",
            "El array está ordenado\n",
            "\n",
            "\n",
            "Tiempo invertido en ordenar: 3502 milisegundos \n",
            "\n",
            "\n",
            "ORDENACIÓN MERGESORT PARALELO\n",
            "\n",
            "Ordenando...\n",
            "El array está ordenado\n",
            "\n",
            "\n",
            "Tiempo invertido en ordenar: 578296 milisegundos \n",
            "\n",
            "\n"
          ]
        }
      ]
    },
    {
      "cell_type": "code",
      "source": [
        "resultado2"
      ],
      "metadata": {
        "colab": {
          "base_uri": "https://localhost:8080/",
          "height": 0
        },
        "id": "nXA2cpTL05w_",
        "outputId": "b587bdd1-8dc7-4de9-ccae-341d2f0f71f0"
      },
      "execution_count": 15,
      "outputs": [
        {
          "output_type": "execute_result",
          "data": {
            "text/plain": [
              "[[67, 78, 279, 519],\n",
              " [54, 98, 327, 595],\n",
              " [5833, 645, 1928, 3502],\n",
              " ['>100 000', '>100 000', '>100 000', 578296]]"
            ]
          },
          "metadata": {},
          "execution_count": 15
        }
      ]
    },
    {
      "cell_type": "markdown",
      "source": [
        "Tabla | 10 | 100 | 500 | 1000\n",
        "--- | --- | --- | --- | ---\n",
        "10| 67 | 78 | 279 | 519\n",
        "1000 | 54 | 98 | 327 | 595\n",
        "10 000 | 5833 | 645 | 1923 | 3502\n",
        "1 000 000 | >100 000 | >100 000 | >100 000 | 578 296"
      ],
      "metadata": {
        "id": "o3AnJBFrI2nB"
      }
    },
    {
      "cell_type": "markdown",
      "source": [
        "## Numba"
      ],
      "metadata": {
        "id": "iVMOyXCQeyk2"
      }
    },
    {
      "cell_type": "markdown",
      "source": [
        "Para terminar esta parte vamos a realizar la implementación con Numba. Lo único que tenemos que cambiar por completo el código para poder usarlo desde Numba. Porque como no tenemos cachos u ordenamos todo con la burbuja o todo con merge. Voy a similar los cachos haciendo las divisiones pero tiene poco sentido."
      ],
      "metadata": {
        "id": "tZM58xFqfhDI"
      }
    },
    {
      "cell_type": "code",
      "source": [
        "from numba import cuda, njit, typed\n",
        "import numpy as np"
      ],
      "metadata": {
        "id": "KRdoEpHXjd5H"
      },
      "execution_count": 11,
      "outputs": []
    },
    {
      "cell_type": "code",
      "source": [
        "SMALL_MERGESORT_NUMBA = 40\n",
        "\n",
        "@njit\n",
        "def merge_numba(A, Aux, lo, mid, hi):\n",
        "\n",
        "    i = lo\n",
        "    j = mid + 1\n",
        "    for k in range(lo, hi + 1):\n",
        "        if i > mid:\n",
        "            Aux[k] = A[j]\n",
        "            j += 1\n",
        "        elif j > hi:\n",
        "            Aux[k] = A[i]\n",
        "            i += 1\n",
        "        elif A[j] < A[i]:\n",
        "            Aux[k] = A[j]\n",
        "            j += 1\n",
        "        else:\n",
        "            Aux[k] = A[i]\n",
        "            i += 1\n",
        "\n",
        "\n",
        "@njit\n",
        "def insertion_sort_numba(A, lo, hi):\n",
        "\n",
        "    for i in range(lo + 1, hi + 1):\n",
        "        key = A[i]\n",
        "        j = i - 1\n",
        "        while (j >= lo) & (A[j] > key):\n",
        "            A[j + 1] = A[j]\n",
        "            j -= 1\n",
        "        A[j + 1] = key\n",
        "\n",
        "\n",
        "@njit\n",
        "def merge_sort_numba(A, Aux, lo, hi):\n",
        "\n",
        "    if hi - lo > SMALL_MERGESORT_NUMBA:\n",
        "        mid = lo + ((hi - lo) >> 1)\n",
        "        merge_sort_numba(Aux, A, lo, mid)\n",
        "        merge_sort_numba(Aux, A, mid + 1, hi)\n",
        "        if A[mid] > A[mid + 1]:\n",
        "            merge_numba(A, Aux, lo, mid, hi)\n",
        "        else:\n",
        "            for i in range(lo, hi + 1):\n",
        "                Aux[i] = A[i]\n",
        "    else:\n",
        "        insertion_sort_numba(Aux, lo, hi)"
      ],
      "metadata": {
        "id": "qZh923chjceK"
      },
      "execution_count": 28,
      "outputs": []
    },
    {
      "cell_type": "code",
      "source": [
        "def ejercicio3(n=None):\n",
        "\n",
        "  print(\"ORDENACIÓN MERGESORT NUMBA\\n\")\n",
        "\n",
        "  if not n:\n",
        "    n = int(input(\"Escriba el tamaño del vector: \")) # Número de datos que se quieren ordenar\n",
        "\n",
        "  # Generación aleatoria de n datos\n",
        "  datos = np.array(generar_datos(n))\n",
        "  aux = np.copy(datos)\n",
        "  # Ordenar\n",
        "  print(\"Ordenando...\")\n",
        "  ti=milisegundos() # tiempo inicial\n",
        "  merge_sort_numba(aux, datos, 0, len(datos) - 1)\n",
        "  tf=milisegundos() # tiempo final\n",
        "\n",
        "  # Comprobar que está correcto\n",
        "  res = esta_ordenado_array(datos, n, ti, tf)\n",
        "  if res == -1:\n",
        "    return tf-ti"
      ],
      "metadata": {
        "id": "5qguBgfpJFW5"
      },
      "execution_count": 20,
      "outputs": []
    },
    {
      "cell_type": "code",
      "source": [
        "ejercicio3(10000)"
      ],
      "metadata": {
        "colab": {
          "base_uri": "https://localhost:8080/",
          "height": 0
        },
        "id": "sbXghTZng4aT",
        "outputId": "9123a8f7-d22c-4d0b-a2c2-0fdb2fea550c"
      },
      "execution_count": 23,
      "outputs": [
        {
          "output_type": "stream",
          "name": "stdout",
          "text": [
            "ORDENACIÓN MERGESORT NUMBA\n",
            "\n",
            "Ordenando...\n",
            "El array está ordenado\n",
            "\n",
            "\n",
            "Tiempo invertido en ordenar: 446 milisegundos \n",
            "\n",
            "\n"
          ]
        },
        {
          "output_type": "execute_result",
          "data": {
            "text/plain": [
              "446"
            ]
          },
          "metadata": {},
          "execution_count": 23
        }
      ]
    },
    {
      "cell_type": "markdown",
      "source": [
        "Tenemos el código calculamos los tiempos para cada caso. Lo único que ahora no tiene ningún sentido hacer cachos evidentemente así que simplemente vamos a usar los tamaños."
      ],
      "metadata": {
        "id": "0EhhO8A_mSYp"
      }
    },
    {
      "cell_type": "code",
      "source": [
        "tam = [10, 100, 10000, 1000000]\n",
        "\n",
        "resultado3 = []\n",
        "for n in tam:\n",
        "  resultado3.append(ejercicio3(n))"
      ],
      "metadata": {
        "colab": {
          "base_uri": "https://localhost:8080/",
          "height": 0
        },
        "id": "UTw2vd15mSDW",
        "outputId": "5c17f18a-d41d-487e-8cbe-ce9ea8164bdb"
      },
      "execution_count": 24,
      "outputs": [
        {
          "output_type": "stream",
          "name": "stdout",
          "text": [
            "ORDENACIÓN MERGESORT NUMBA\n",
            "\n",
            "Ordenando...\n",
            "El array está ordenado\n",
            "\n",
            "\n",
            "Tiempo invertido en ordenar: 0 milisegundos \n",
            "\n",
            "\n",
            "ORDENACIÓN MERGESORT NUMBA\n",
            "\n",
            "Ordenando...\n",
            "El array está ordenado\n",
            "\n",
            "\n",
            "Tiempo invertido en ordenar: 0 milisegundos \n",
            "\n",
            "\n",
            "ORDENACIÓN MERGESORT NUMBA\n",
            "\n",
            "Ordenando...\n",
            "El array está ordenado\n",
            "\n",
            "\n",
            "Tiempo invertido en ordenar: 0 milisegundos \n",
            "\n",
            "\n",
            "ORDENACIÓN MERGESORT NUMBA\n",
            "\n",
            "Ordenando...\n",
            "El array está ordenado\n",
            "\n",
            "\n",
            "Tiempo invertido en ordenar: 110 milisegundos \n",
            "\n",
            "\n"
          ]
        }
      ]
    },
    {
      "cell_type": "code",
      "source": [
        "resultado3"
      ],
      "metadata": {
        "colab": {
          "base_uri": "https://localhost:8080/",
          "height": 0
        },
        "id": "bub1lXAGinC3",
        "outputId": "b986d4da-a426-4f03-bc51-d570d0d0ec6f"
      },
      "execution_count": 25,
      "outputs": [
        {
          "output_type": "execute_result",
          "data": {
            "text/plain": [
              "[0, 0, 0, 110]"
            ]
          },
          "metadata": {},
          "execution_count": 25
        }
      ]
    },
    {
      "cell_type": "markdown",
      "source": [
        "Tabla | Resultados\n",
        "--- | ---\n",
        "10| 0\n",
        "1000 | 0\n",
        "10 000 | 0\n",
        "1 000 000 | 110"
      ],
      "metadata": {
        "id": "R-uYB0oHq21J"
      }
    },
    {
      "cell_type": "markdown",
      "source": [
        "Vemos que es de los mejores resultados que hemos obtenido hasta el momento. Pero solo utilizamos el algoritmo de mezcla, por eso vamos a hacer los cachos que comentaba al principio."
      ],
      "metadata": {
        "id": "94kn_x5hrA7D"
      }
    },
    {
      "cell_type": "code",
      "source": [
        "@njit\n",
        "def burbuja_numba(v, izq, der):\n",
        "  '''burbuja con numba'''\n",
        "  aux = 0\n",
        "  for i in range(0, der-izq-1):\n",
        "    for j in range(izq, der-i-1):\n",
        "      if v[j] > v[j+1]:\n",
        "        aux = v[j]\n",
        "        v[j]=v[j+1]\n",
        "        v[j+1]=aux\n",
        "\n",
        "@njit\n",
        "def mezclar_numba(v , izq, med, der):\n",
        "  '''Mezclar con numba'''\n",
        "\n",
        "  aux= [0] * (der-izq)\n",
        "  i=izq\n",
        "  j=med\n",
        "  k=0\n",
        "\n",
        "  while i<med and j<der:\n",
        "    if v[i] <= v[j]:\n",
        "      aux[k] = v[i]\n",
        "      i += 1\n",
        "    else:\n",
        "      aux[k] = v[j];\n",
        "      j += 1\n",
        "    k += 1\n",
        "\n",
        "  while i<med:\n",
        "    aux[k] = v[i]\n",
        "    k += 1\n",
        "    i += 1\n",
        "\n",
        "  while j<der:\n",
        "    aux[k] = v[j];\n",
        "    k += 1\n",
        "    j += 1\n",
        "\n",
        "  for i in range(0, der-izq):\n",
        "      v[i+izq] = aux[i]\n",
        "\n",
        "@njit\n",
        "def mergesort_numba(v, n, num_trozos):\n",
        "\n",
        "  tam_trozo = int(n / num_trozos)\n",
        "  for i in range(0, num_trozos):\n",
        "    izq = i*tam_trozo\n",
        "    der = (i+1) * tam_trozo\n",
        "    if i == num_trozos-1: der = n\n",
        "    burbuja_numba(v, izq, der)\n",
        "\n",
        "\t# Mezclar todos los trozos ordenados\n",
        "  for i in range(num_trozos-2, -1, -1):\n",
        "    izq=i*tam_trozo\n",
        "    med=izq+tam_trozo\n",
        "    mezclar_numba(v,izq,med,n)"
      ],
      "metadata": {
        "id": "XYQu1EoisN3t"
      },
      "execution_count": 12,
      "outputs": []
    },
    {
      "cell_type": "code",
      "source": [
        "def ejercicio3_1(n=None, num_trozos=None):\n",
        "  print(\"ORDENACIÓN MERGESORT SECUENCIAL\\n\")\n",
        "\n",
        "  if not n or not num_trozos:\n",
        "    n = int(input(\"Escriba el tamaño del vector: \")) # Número de datos que se quieren ordenar\n",
        "    num_trozos = int(input(\"Escriba cúantos trozos quiere usar: \")) # Número de trozos que se quieren usar\n",
        "\n",
        "  # Generación aleatoria de n datos\n",
        "  datos = typed.List(generar_datos(n))\n",
        "  # Ordenar\n",
        "  print(\"Ordenando...\")\n",
        "  ti=milisegundos() # tiempo inicial\n",
        "  mergesort_numba(datos,n,num_trozos)\n",
        "  tf=milisegundos() # tiempo final\n",
        "\n",
        "  # Comprobar que está correcto\n",
        "  res = esta_ordenado_array(datos, n, ti, tf)\n",
        "  if res == -1:\n",
        "    return tf-ti"
      ],
      "metadata": {
        "id": "8hBhfQsrse6i"
      },
      "execution_count": 13,
      "outputs": []
    },
    {
      "cell_type": "code",
      "source": [
        "ejercicio3_1(10, 5)"
      ],
      "metadata": {
        "colab": {
          "base_uri": "https://localhost:8080/",
          "height": 0
        },
        "id": "S6aR_wFKsnY_",
        "outputId": "bc4257b7-17a8-4763-9854-9aabf80e790e"
      },
      "execution_count": 14,
      "outputs": [
        {
          "output_type": "stream",
          "name": "stdout",
          "text": [
            "ORDENACIÓN MERGESORT SECUENCIAL\n",
            "\n",
            "Ordenando...\n",
            "El array está ordenado\n",
            "\n",
            "\n",
            "Tiempo invertido en ordenar: 848 milisegundos \n",
            "\n",
            "\n"
          ]
        },
        {
          "output_type": "execute_result",
          "data": {
            "text/plain": [
              "848"
            ]
          },
          "metadata": {},
          "execution_count": 14
        }
      ]
    },
    {
      "cell_type": "markdown",
      "source": [
        "Comprobamos tiempos."
      ],
      "metadata": {
        "id": "9qDmhNp_zGtU"
      }
    },
    {
      "cell_type": "code",
      "source": [
        "n_tro = [10, 100, 500, 1000]\n",
        "tam = [10, 100, 10000, 1000000]\n",
        "\n",
        "resultado3_1 = []\n",
        "for n in tam:\n",
        "  fila = []\n",
        "  for t in n_tro:\n",
        "    if n == 1000000 and t in [10, 100, 500]:\n",
        "      fila.append(\">100 000\")\n",
        "    else:\n",
        "      fila.append(ejercicio3_1(n, t))\n",
        "\n",
        "  resultado3_1.append(fila)"
      ],
      "metadata": {
        "colab": {
          "base_uri": "https://localhost:8080/",
          "height": 0
        },
        "id": "H6JT-1E9zIzs",
        "outputId": "bb1d86ad-9180-443c-df38-2e4e95b07613"
      },
      "execution_count": 15,
      "outputs": [
        {
          "output_type": "stream",
          "name": "stdout",
          "text": [
            "ORDENACIÓN MERGESORT SECUENCIAL\n",
            "\n",
            "Ordenando...\n",
            "El array está ordenado\n",
            "\n",
            "\n",
            "Tiempo invertido en ordenar: 0 milisegundos \n",
            "\n",
            "\n",
            "ORDENACIÓN MERGESORT SECUENCIAL\n",
            "\n",
            "Ordenando...\n",
            "El array está ordenado\n",
            "\n",
            "\n",
            "Tiempo invertido en ordenar: 0 milisegundos \n",
            "\n",
            "\n",
            "ORDENACIÓN MERGESORT SECUENCIAL\n",
            "\n",
            "Ordenando...\n",
            "El array está ordenado\n",
            "\n",
            "\n",
            "Tiempo invertido en ordenar: 1 milisegundos \n",
            "\n",
            "\n",
            "ORDENACIÓN MERGESORT SECUENCIAL\n",
            "\n",
            "Ordenando...\n",
            "El array está ordenado\n",
            "\n",
            "\n",
            "Tiempo invertido en ordenar: 1 milisegundos \n",
            "\n",
            "\n",
            "ORDENACIÓN MERGESORT SECUENCIAL\n",
            "\n",
            "Ordenando...\n",
            "El array está ordenado\n",
            "\n",
            "\n",
            "Tiempo invertido en ordenar: 0 milisegundos \n",
            "\n",
            "\n",
            "ORDENACIÓN MERGESORT SECUENCIAL\n",
            "\n",
            "Ordenando...\n",
            "El array está ordenado\n",
            "\n",
            "\n",
            "Tiempo invertido en ordenar: 1 milisegundos \n",
            "\n",
            "\n",
            "ORDENACIÓN MERGESORT SECUENCIAL\n",
            "\n",
            "Ordenando...\n",
            "El array está ordenado\n",
            "\n",
            "\n",
            "Tiempo invertido en ordenar: 2 milisegundos \n",
            "\n",
            "\n",
            "ORDENACIÓN MERGESORT SECUENCIAL\n",
            "\n",
            "Ordenando...\n",
            "El array está ordenado\n",
            "\n",
            "\n",
            "Tiempo invertido en ordenar: 5 milisegundos \n",
            "\n",
            "\n",
            "ORDENACIÓN MERGESORT SECUENCIAL\n",
            "\n",
            "Ordenando...\n",
            "El array está ordenado\n",
            "\n",
            "\n",
            "Tiempo invertido en ordenar: 372 milisegundos \n",
            "\n",
            "\n",
            "ORDENACIÓN MERGESORT SECUENCIAL\n",
            "\n",
            "Ordenando...\n",
            "El array está ordenado\n",
            "\n",
            "\n",
            "Tiempo invertido en ordenar: 74 milisegundos \n",
            "\n",
            "\n",
            "ORDENACIÓN MERGESORT SECUENCIAL\n",
            "\n",
            "Ordenando...\n",
            "El array está ordenado\n",
            "\n",
            "\n",
            "Tiempo invertido en ordenar: 193 milisegundos \n",
            "\n",
            "\n",
            "ORDENACIÓN MERGESORT SECUENCIAL\n",
            "\n",
            "Ordenando...\n",
            "El array está ordenado\n",
            "\n",
            "\n",
            "Tiempo invertido en ordenar: 352 milisegundos \n",
            "\n",
            "\n",
            "ORDENACIÓN MERGESORT SECUENCIAL\n",
            "\n",
            "Ordenando...\n",
            "El array está ordenado\n",
            "\n",
            "\n",
            "Tiempo invertido en ordenar: 74181 milisegundos \n",
            "\n",
            "\n"
          ]
        }
      ]
    },
    {
      "cell_type": "code",
      "source": [
        "resultado3_1"
      ],
      "metadata": {
        "colab": {
          "base_uri": "https://localhost:8080/",
          "height": 0
        },
        "id": "7z8XOsCRzYtJ",
        "outputId": "8951e5c6-182a-435c-b671-f2a9fe76c5f1"
      },
      "execution_count": 16,
      "outputs": [
        {
          "output_type": "execute_result",
          "data": {
            "text/plain": [
              "[[0, 0, 1, 1],\n",
              " [0, 1, 2, 5],\n",
              " [372, 74, 193, 352],\n",
              " ['>100 000', '>100 000', '>100 000', 74181]]"
            ]
          },
          "metadata": {},
          "execution_count": 16
        }
      ]
    },
    {
      "cell_type": "markdown",
      "source": [
        "Tabla | 10 | 100 | 500 | 1000\n",
        "--- | --- | --- | --- | ---\n",
        "10| 0 | 0 | 1 | 1\n",
        "1000 | 0 | 1 | 2 | 5\n",
        "10 000 | 372 | 74 | 193 | 352\n",
        "1 000 000 | >100 000 | >100 000 | >100 000 | 74 181"
      ],
      "metadata": {
        "id": "MHBw4fJm25xT"
      }
    },
    {
      "cell_type": "markdown",
      "source": [
        "Aún así notamos una gran mejoría."
      ],
      "metadata": {
        "id": "uQbFFuD93JZk"
      }
    },
    {
      "cell_type": "markdown",
      "source": [
        "Y con esto termina este apartado, ahora vamos a comparar estos resultados con los que ya teniamos de Java y C++."
      ],
      "metadata": {
        "id": "hYzz-cjarIwM"
      }
    }
  ]
}