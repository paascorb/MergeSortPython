{
  "nbformat": 4,
  "nbformat_minor": 0,
  "metadata": {
    "colab": {
      "provenance": [],
      "authorship_tag": "ABX9TyPSxzZe3IbHlaN7zGPusR8D",
      "include_colab_link": true
    },
    "kernelspec": {
      "name": "python3",
      "display_name": "Python 3"
    },
    "language_info": {
      "name": "python"
    }
  },
  "cells": [
    {
      "cell_type": "markdown",
      "metadata": {
        "id": "view-in-github",
        "colab_type": "text"
      },
      "source": [
        "<a href=\"https://colab.research.google.com/github/paascorb/MergeSortPython/blob/main/TrabajoEloy.ipynb\" target=\"_parent\"><img src=\"https://colab.research.google.com/assets/colab-badge.svg\" alt=\"Open In Colab\"/></a>"
      ]
    },
    {
      "cell_type": "markdown",
      "source": [
        "# Trabajo Mergesort Python"
      ],
      "metadata": {
        "id": "yV9xVN-aVXYA"
      }
    },
    {
      "cell_type": "markdown",
      "source": [
        "En este apartado vamos a realizar la parte obligatoria del trabajo, donde vamos a programar el método de ordenación Mergesort en Python dse manera secuencial, paralela y usando Numba."
      ],
      "metadata": {
        "id": "3AbfaPhjViwa"
      }
    },
    {
      "cell_type": "markdown",
      "source": [
        "## Python Secuencial"
      ],
      "metadata": {
        "id": "9Gd7KekTVuo6"
      }
    },
    {
      "cell_type": "code",
      "source": [],
      "metadata": {
        "id": "-wNyBJ86Vwq4"
      },
      "execution_count": null,
      "outputs": []
    },
    {
      "cell_type": "code",
      "source": [],
      "metadata": {
        "id": "S6SxK1ZnVuLt"
      },
      "execution_count": null,
      "outputs": []
    },
    {
      "cell_type": "code",
      "execution_count": null,
      "metadata": {
        "id": "29mIYi9UUyOd"
      },
      "outputs": [],
      "source": []
    }
  ]
}