{
  "nbformat": 4,
  "nbformat_minor": 0,
  "metadata": {
    "colab": {
      "provenance": [],
      "authorship_tag": "ABX9TyMTB0n0JIjiGio7UInUJiYb",
      "include_colab_link": true
    },
    "kernelspec": {
      "name": "python3",
      "display_name": "Python 3"
    },
    "language_info": {
      "name": "python"
    }
  },
  "cells": [
    {
      "cell_type": "markdown",
      "metadata": {
        "id": "view-in-github",
        "colab_type": "text"
      },
      "source": [
        "<a href=\"https://colab.research.google.com/github/paascorb/MergeSortPython/blob/main/TrabajoEloy.ipynb\" target=\"_parent\"><img src=\"https://colab.research.google.com/assets/colab-badge.svg\" alt=\"Open In Colab\"/></a>"
      ]
    },
    {
      "cell_type": "markdown",
      "source": [
        "# Trabajo Mergesort Python"
      ],
      "metadata": {
        "id": "yV9xVN-aVXYA"
      }
    },
    {
      "cell_type": "markdown",
      "source": [
        "En este apartado vamos a realizar la parte obligatoria del trabajo, donde vamos a programar el método de ordenación Mergesort en Python dse manera secuencial, paralela y usando Numba."
      ],
      "metadata": {
        "id": "3AbfaPhjViwa"
      }
    },
    {
      "cell_type": "markdown",
      "source": [
        "## Utilidades"
      ],
      "metadata": {
        "id": "O4xy6MROeunV"
      }
    },
    {
      "cell_type": "markdown",
      "source": [
        "Primero, antes de ponernos a programar los algoritmos, necesitamos programar los métodos auxiliares."
      ],
      "metadata": {
        "id": "whvlK-lzewct"
      }
    },
    {
      "cell_type": "code",
      "source": [
        "from random import *\n",
        "\n",
        "def generar_datos(tamaño):\n",
        "  '''Genera 'tamaño' datos aleatorios dcon valores entre -1000 y 1000\n",
        "     Siempre genera la misma secuencia de valores'''\n",
        "\n",
        "  seed(22) # Fijamos la semilla\n",
        "  return [randint(-1000, 1000) for i in range(0, tamaño)]"
      ],
      "metadata": {
        "id": "865tNI0Xev66"
      },
      "execution_count": 6,
      "outputs": []
    },
    {
      "cell_type": "markdown",
      "source": [
        "Probamos la primera función."
      ],
      "metadata": {
        "id": "8nA8hfc8hHFt"
      }
    },
    {
      "cell_type": "code",
      "source": [
        "generar_datos(3)"
      ],
      "metadata": {
        "colab": {
          "base_uri": "https://localhost:8080/"
        },
        "id": "znBS_0CDhFjt",
        "outputId": "8682470b-bd15-40ba-f216-8ca19b079bca"
      },
      "execution_count": 8,
      "outputs": [
        {
          "output_type": "execute_result",
          "data": {
            "text/plain": [
              "[962, 858, -713]"
            ]
          },
          "metadata": {},
          "execution_count": 8
        }
      ]
    },
    {
      "cell_type": "markdown",
      "source": [
        "Seguimos con las siguientes."
      ],
      "metadata": {
        "id": "ct2tFpdRhkrG"
      }
    },
    {
      "cell_type": "code",
      "source": [
        "def esta_ordenado_array(vector, tamaño, ti, tf):\n",
        "  '''Comprueba si un array está ordenado\n",
        "     Devolverá la primera posición que no está ordenada y -1 si el vector está ordenado'''\n",
        "\n",
        "  aux = -1\n",
        "\n",
        "  for i in range(0, tamaño-1):\n",
        "    if(vector[i]>vector[i+1]):\n",
        "      aux = i\n",
        "      i = tamaño\n",
        "\n",
        "  if(aux == -1):\n",
        "\n",
        "    print(\"El array está ordenado\\n\\n\")\n",
        "    print(\"Tiempo invertido en ordenar: \"+str(tf-ti)+\" milisegundos \\n\\n\")\n",
        "\n",
        "  else:\n",
        "    print(\"\\nEl vector falla en ****  \"+ str(aux) +\"  ******\")\n",
        "\n",
        "  return aux"
      ],
      "metadata": {
        "id": "oO1_XrAahi7a"
      },
      "execution_count": 10,
      "outputs": []
    },
    {
      "cell_type": "code",
      "source": [
        "esta_ordenado_array([1,2,3,4], 4, 100, 102)"
      ],
      "metadata": {
        "colab": {
          "base_uri": "https://localhost:8080/"
        },
        "id": "VWrWxzlpio05",
        "outputId": "66a7f01d-efe2-455c-f2f9-9440d9ca995d"
      },
      "execution_count": 11,
      "outputs": [
        {
          "output_type": "stream",
          "name": "stdout",
          "text": [
            "El array está ordenado\n",
            "\n",
            "\n",
            "Tiempo invertido en ordenar: 2 milisegundos \n",
            "\n",
            "\n"
          ]
        },
        {
          "output_type": "execute_result",
          "data": {
            "text/plain": [
              "-1"
            ]
          },
          "metadata": {},
          "execution_count": 11
        }
      ]
    },
    {
      "cell_type": "code",
      "source": [
        "esta_ordenado_array([1,5,3,4], 4, 100, 102)"
      ],
      "metadata": {
        "colab": {
          "base_uri": "https://localhost:8080/"
        },
        "id": "pgtpFgPDiyHb",
        "outputId": "611be402-4be0-4d26-a0f7-56f1543abaaf"
      },
      "execution_count": 12,
      "outputs": [
        {
          "output_type": "stream",
          "name": "stdout",
          "text": [
            "\n",
            "El vector falla en ****  1  ******\n"
          ]
        },
        {
          "output_type": "execute_result",
          "data": {
            "text/plain": [
              "1"
            ]
          },
          "metadata": {},
          "execution_count": 12
        }
      ]
    },
    {
      "cell_type": "code",
      "source": [
        "def burbuja(v, izq, der):\n",
        "  '''Ordenación secuencial por el método de la burbuja\n",
        "     Se pasan los índices izq y ordena desde v[iz] hasta v[der-1]'''\n",
        "  aux = 0\n",
        "  for i in range(0, der-izq-1):\n",
        "    for j in range(izq, der-i-1):\n",
        "      if v[j] > v[j+1]:\n",
        "        aux = v[j]\n",
        "        v[j]=v[j+1]\n",
        "        v[j+1]=aux"
      ],
      "metadata": {
        "id": "VAtg2aAii1eJ"
      },
      "execution_count": 48,
      "outputs": []
    },
    {
      "cell_type": "code",
      "source": [
        "prueba = [3,2,1]\n",
        "burbuja(prueba,0,3)\n",
        "prueba"
      ],
      "metadata": {
        "colab": {
          "base_uri": "https://localhost:8080/"
        },
        "id": "kfTJgIX_kDWN",
        "outputId": "0b43a7dd-2c9d-449f-fddb-dcb7dd84aa5f"
      },
      "execution_count": 49,
      "outputs": [
        {
          "output_type": "execute_result",
          "data": {
            "text/plain": [
              "[1, 2, 3]"
            ]
          },
          "metadata": {},
          "execution_count": 49
        }
      ]
    },
    {
      "cell_type": "code",
      "source": [
        "import time\n",
        "\n",
        "def milisegundos():\n",
        "  # Devuelve el tiempo en milisengundos desde la época Unix (01/01/1970)\n",
        "\n",
        "\treturn round(time.time() * 1000)"
      ],
      "metadata": {
        "id": "fky_Dd6bkZpc"
      },
      "execution_count": 50,
      "outputs": []
    },
    {
      "cell_type": "code",
      "source": [
        "milisegundos()"
      ],
      "metadata": {
        "colab": {
          "base_uri": "https://localhost:8080/"
        },
        "id": "4aOSJEVVk5GQ",
        "outputId": "ebaaa0c3-7164-417b-8bb8-814812f1299e"
      },
      "execution_count": 51,
      "outputs": [
        {
          "output_type": "execute_result",
          "data": {
            "text/plain": [
              "1686675295683"
            ]
          },
          "metadata": {},
          "execution_count": 51
        }
      ]
    },
    {
      "cell_type": "code",
      "source": [
        "def mezclar(v , izq, med, der):\n",
        "  '''Mezcla ordenada de dos trozos de un vector desde sus índices izq hasta der\n",
        "     Primer trozo desde izq hasta med-1\n",
        "     Segundo trozo desde med hasta der-1\n",
        "     Cada trozo tiene que estar previamente ordenado'''\n",
        "\n",
        "  aux= [0] * (der-izq)\n",
        "  i=izq\n",
        "  j=med\n",
        "  k=0\n",
        "\n",
        "  while i<med and j<der:\n",
        "    if v[i] <= v[j]:\n",
        "      aux[k] = v[i]\n",
        "      i += 1\n",
        "    else:\n",
        "      aux[k] = v[j];\n",
        "      j += 1\n",
        "    k += 1\n",
        "\n",
        "  while i<med:\n",
        "    aux[k] = v[i]\n",
        "    k += 1\n",
        "    i += 1\n",
        "\n",
        "  while j<der:\n",
        "    aux[k] = v[j];\n",
        "    k += 1\n",
        "    j += 1\n",
        "\n",
        "  for i in range(0, der-izq):\n",
        "      v[i+izq] = aux[i]"
      ],
      "metadata": {
        "id": "OJ_eZUzuk6ts"
      },
      "execution_count": 55,
      "outputs": []
    },
    {
      "cell_type": "markdown",
      "source": [
        "## Python Secuencial"
      ],
      "metadata": {
        "id": "9Gd7KekTVuo6"
      }
    },
    {
      "cell_type": "markdown",
      "source": [
        "En esta sección vamos a programar el algoritmo Mergesort secuencialmente."
      ],
      "metadata": {
        "id": "lNSPbFNHekZE"
      }
    },
    {
      "cell_type": "code",
      "source": [
        "def mergesort_secuencial(v, n, num_trozos):\n",
        "\n",
        "  tam_trozo = int(n / num_trozos)\n",
        "  for i in range(0, num_trozos):\n",
        "    izq = i*tam_trozo\n",
        "    der = (i+1) * tam_trozo\n",
        "    if i == num_trozos-1: der = n\n",
        "    burbuja(v, izq, der)\n",
        "\n",
        "\t# Mezclar todos los trozos ordenados\n",
        "  for i in range(num_trozos-2, -1, -1):\n",
        "    izq=i*tam_trozo\n",
        "    med=izq+tam_trozo\n",
        "    mezclar(v,izq,med,n)"
      ],
      "metadata": {
        "id": "-wNyBJ86Vwq4"
      },
      "execution_count": 59,
      "outputs": []
    },
    {
      "cell_type": "markdown",
      "source": [
        "Probamos el algoritmo y medimos tiempos."
      ],
      "metadata": {
        "id": "vpX_NMCdnZbj"
      }
    },
    {
      "cell_type": "code",
      "source": [
        "def ejercicio1(n=None, num_trozos=None):\n",
        "  print(\"ORDENACIÓN MERGESORT SECUENCIAL\\n\")\n",
        "\n",
        "  if not n or not num_trozos:\n",
        "    n = int(input(\"Escriba el tamaño del vector: \")) # Número de datos que se quieren ordenar\n",
        "    num_trozos = int(input(\"Escriba cúantos trozos quiere usar: \")) # Número de trozos que se quieren usar\n",
        "\n",
        "  # Generación aleatoria de n datos\n",
        "  datos = generar_datos(n)\n",
        "  # Ordenar\n",
        "  print(\"Ordenando...\")\n",
        "  ti=milisegundos() # tiempo inicial\n",
        "  mergesort_secuencial(datos,n,num_trozos)\n",
        "  tf=milisegundos() # tiempo final\n",
        "\n",
        "  # Comprobar que está correcto\n",
        "  res = esta_ordenado_array(datos, n, ti, tf)\n",
        "  if res == -1:\n",
        "    return tf-ti"
      ],
      "metadata": {
        "id": "2PxPBOdonbVy"
      },
      "execution_count": 74,
      "outputs": []
    },
    {
      "cell_type": "code",
      "source": [
        "ejercicio1()"
      ],
      "metadata": {
        "colab": {
          "base_uri": "https://localhost:8080/"
        },
        "id": "Fcv0-EzKpwT8",
        "outputId": "66a702e5-7d9f-491d-95f0-2d2f4bf6f31b"
      },
      "execution_count": 67,
      "outputs": [
        {
          "output_type": "stream",
          "name": "stdout",
          "text": [
            "ORDENACIÓN MERGESORT SECUENCIAL\n",
            "\n",
            "Escriba el tamaño del vector: 10\n",
            "Escriba cúantos trozos quiere usar: 2\n",
            "Ordenando...\n",
            "El array está ordenado\n",
            "\n",
            "\n",
            "Tiempo invertido en ordenar: 0 milisegundos \n",
            "\n",
            "\n"
          ]
        },
        {
          "output_type": "execute_result",
          "data": {
            "text/plain": [
              "0"
            ]
          },
          "metadata": {},
          "execution_count": 67
        }
      ]
    },
    {
      "cell_type": "markdown",
      "source": [
        "Teniendo esto ya, lo mejor es que calculemos los tiempos con los mismos datos que utilizábamos en la primera parte del trabajo. Recordemos que lo haciamos para tamaños de vectores 10, 1000, 10 000 y 1 000 000; y para trozos de tamaño 10, 100, 500 y 1000."
      ],
      "metadata": {
        "id": "Xx_trrWrsEpU"
      }
    },
    {
      "cell_type": "code",
      "source": [
        "n_tro = [10, 100, 500, 1000]\n",
        "tam = [10, 100, 10000, 1000000]\n",
        "\n",
        "resultado = []\n",
        "for n in tam:\n",
        "  fila = []\n",
        "  for t in n_tro:\n",
        "    if n == 1000000 and t in [10, 100, 500]:\n",
        "      fila.append(\">100 000\")\n",
        "    else:\n",
        "      fila.append(ejercicio1(n, t))\n",
        "\n",
        "  resultado.append(fila)"
      ],
      "metadata": {
        "colab": {
          "base_uri": "https://localhost:8080/"
        },
        "id": "NTt0toUEsvhu",
        "outputId": "c868903a-fd4d-49a8-fb95-03348d75a5da"
      },
      "execution_count": 72,
      "outputs": [
        {
          "output_type": "stream",
          "name": "stdout",
          "text": [
            "ORDENACIÓN MERGESORT SECUENCIAL\n",
            "\n",
            "Ordenando...\n",
            "El array está ordenado\n",
            "\n",
            "\n",
            "Tiempo invertido en ordenar: 0 milisegundos \n",
            "\n",
            "\n",
            "ORDENACIÓN MERGESORT SECUENCIAL\n",
            "\n",
            "Ordenando...\n",
            "El array está ordenado\n",
            "\n",
            "\n",
            "Tiempo invertido en ordenar: 0 milisegundos \n",
            "\n",
            "\n",
            "ORDENACIÓN MERGESORT SECUENCIAL\n",
            "\n",
            "Ordenando...\n",
            "El array está ordenado\n",
            "\n",
            "\n",
            "Tiempo invertido en ordenar: 2 milisegundos \n",
            "\n",
            "\n",
            "ORDENACIÓN MERGESORT SECUENCIAL\n",
            "\n",
            "Ordenando...\n",
            "El array está ordenado\n",
            "\n",
            "\n",
            "Tiempo invertido en ordenar: 3 milisegundos \n",
            "\n",
            "\n",
            "ORDENACIÓN MERGESORT SECUENCIAL\n",
            "\n",
            "Ordenando...\n",
            "El array está ordenado\n",
            "\n",
            "\n",
            "Tiempo invertido en ordenar: 0 milisegundos \n",
            "\n",
            "\n",
            "ORDENACIÓN MERGESORT SECUENCIAL\n",
            "\n",
            "Ordenando...\n",
            "El array está ordenado\n",
            "\n",
            "\n",
            "Tiempo invertido en ordenar: 1 milisegundos \n",
            "\n",
            "\n",
            "ORDENACIÓN MERGESORT SECUENCIAL\n",
            "\n",
            "Ordenando...\n",
            "El array está ordenado\n",
            "\n",
            "\n",
            "Tiempo invertido en ordenar: 12 milisegundos \n",
            "\n",
            "\n",
            "ORDENACIÓN MERGESORT SECUENCIAL\n",
            "\n",
            "Ordenando...\n",
            "El array está ordenado\n",
            "\n",
            "\n",
            "Tiempo invertido en ordenar: 19 milisegundos \n",
            "\n",
            "\n",
            "ORDENACIÓN MERGESORT SECUENCIAL\n",
            "\n",
            "Ordenando...\n",
            "El array está ordenado\n",
            "\n",
            "\n",
            "Tiempo invertido en ordenar: 894 milisegundos \n",
            "\n",
            "\n",
            "ORDENACIÓN MERGESORT SECUENCIAL\n",
            "\n",
            "Ordenando...\n",
            "El array está ordenado\n",
            "\n",
            "\n",
            "Tiempo invertido en ordenar: 218 milisegundos \n",
            "\n",
            "\n",
            "ORDENACIÓN MERGESORT SECUENCIAL\n",
            "\n",
            "Ordenando...\n",
            "El array está ordenado\n",
            "\n",
            "\n",
            "Tiempo invertido en ordenar: 724 milisegundos \n",
            "\n",
            "\n",
            "ORDENACIÓN MERGESORT SECUENCIAL\n",
            "\n",
            "Ordenando...\n",
            "El array está ordenado\n",
            "\n",
            "\n",
            "Tiempo invertido en ordenar: 1354 milisegundos \n",
            "\n",
            "\n",
            "ORDENACIÓN MERGESORT SECUENCIAL\n",
            "\n",
            "Ordenando...\n",
            "El array está ordenado\n",
            "\n",
            "\n",
            "Tiempo invertido en ordenar: 387758 milisegundos \n",
            "\n",
            "\n"
          ]
        }
      ]
    },
    {
      "cell_type": "code",
      "source": [
        "resultado = [ [abs(i) for i in j if isinstance(i, int)] for j in resultado]"
      ],
      "metadata": {
        "id": "PFAxzoxtsAKZ"
      },
      "execution_count": 83,
      "outputs": []
    },
    {
      "cell_type": "code",
      "source": [
        "resultado"
      ],
      "metadata": {
        "colab": {
          "base_uri": "https://localhost:8080/"
        },
        "id": "0o9pSulKtljA",
        "outputId": "afd59787-df54-431b-a362-f58deeb88e10"
      },
      "execution_count": 84,
      "outputs": [
        {
          "output_type": "execute_result",
          "data": {
            "text/plain": [
              "[[0, 0, 2, 3], [0, 1, 12, 19], [894, 218, 724, 1354], [387758]]"
            ]
          },
          "metadata": {},
          "execution_count": 84
        }
      ]
    },
    {
      "cell_type": "markdown",
      "source": [
        "Los resultado de un millón no aparecen porque los he saltado, ya que sobrepasaban demasiado el tiempo de cálculo. Pero tenemos la tabla."
      ],
      "metadata": {
        "id": "H8R0oCY51Ai1"
      }
    },
    {
      "cell_type": "markdown",
      "source": [
        "Tabla | 10 | 100 | 500 | 1000\n",
        "--- | --- | --- | --- | ---\n",
        "10| 0 | 0 | 2 | 3\n",
        "1000 | 0 | 1 | 12 | 19\n",
        "10 000 | 894 | 218 | 724 | 1354\n",
        "1 000 000 | >100 000 | >100 000 | >100 000 | 358 758"
      ],
      "metadata": {
        "id": "CZHYRPTn1G9o"
      }
    },
    {
      "cell_type": "markdown",
      "source": [
        "## Python paralelo"
      ],
      "metadata": {
        "id": "0iPOr0XH15R_"
      }
    },
    {
      "cell_type": "code",
      "source": [],
      "metadata": {
        "id": "TyKnPuzd1GUO"
      },
      "execution_count": null,
      "outputs": []
    },
    {
      "cell_type": "code",
      "source": [],
      "metadata": {
        "id": "nXA2cpTL05w_"
      },
      "execution_count": null,
      "outputs": []
    }
  ]
}